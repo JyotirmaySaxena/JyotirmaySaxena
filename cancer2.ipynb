{
  "nbformat": 4,
  "nbformat_minor": 0,
  "metadata": {
    "colab": {
      "provenance": [],
      "gpuType": "T4",
      "authorship_tag": "ABX9TyPaPV7w1lNETSNRg3OPeLz7",
      "include_colab_link": true
    },
    "kernelspec": {
      "name": "python3",
      "display_name": "Python 3"
    },
    "language_info": {
      "name": "python"
    },
    "accelerator": "GPU"
  },
  "cells": [
    {
      "cell_type": "markdown",
      "metadata": {
        "id": "view-in-github",
        "colab_type": "text"
      },
      "source": [
        "<a href=\"https://colab.research.google.com/github/JyotirmaySaxena/JyotirmaySaxena/blob/main/cancer2.ipynb\" target=\"_parent\"><img src=\"https://colab.research.google.com/assets/colab-badge.svg\" alt=\"Open In Colab\"/></a>"
      ]
    },
    {
      "cell_type": "code",
      "source": [
        "from google.colab import drive\n",
        "drive.mount('/content/drive')"
      ],
      "metadata": {
        "colab": {
          "base_uri": "https://localhost:8080/"
        },
        "id": "zvxybh-lcaei",
        "outputId": "4a534bb2-4dfd-4fe8-a06b-7d65c7c99fa1"
      },
      "execution_count": 2,
      "outputs": [
        {
          "output_type": "stream",
          "name": "stdout",
          "text": [
            "Mounted at /content/drive\n"
          ]
        }
      ]
    },
    {
      "cell_type": "code",
      "source": [
        "import os\n",
        "\n",
        "path = '/content/drive/MyDrive/cancermy_directory/cancer'\n",
        "\n",
        "# Check if the directory exists\n",
        "if not os.path.exists(path):\n",
        "    # Create the directory\n",
        "    os.mkdir(path)\n",
        "    print(\"Directory created successfully!\")\n",
        "else:\n",
        "    print(\"Directory already exists!\")\n"
      ],
      "metadata": {
        "colab": {
          "base_uri": "https://localhost:8080/"
        },
        "id": "rGPAmwF3zOSV",
        "outputId": "7c3fec78-2e38-4fe7-edb2-af2ab0f6c60e"
      },
      "execution_count": 3,
      "outputs": [
        {
          "output_type": "stream",
          "name": "stdout",
          "text": [
            "Directory already exists!\n"
          ]
        }
      ]
    },
    {
      "cell_type": "code",
      "source": [
        "import numpy as np\n",
        "import matplotlib.pyplot as plt\n",
        "import os\n",
        "import math\n",
        "import shutil\n",
        "import glob"
      ],
      "metadata": {
        "id": "uDmi9zZ-cKzh"
      },
      "execution_count": 4,
      "outputs": []
    },
    {
      "cell_type": "code",
      "source": [
        "ROOT_DIR = \"/content/drive/MyDrive/cancermy_directory\"\n",
        "number_of_images= {}\n",
        "for dir in os.listdir(ROOT_DIR):\n",
        "  number_of_images[dir]= len(os.listdir(os.path.join(ROOT_DIR, dir)))"
      ],
      "metadata": {
        "id": "akTOzqBqcK23"
      },
      "execution_count": 5,
      "outputs": []
    },
    {
      "cell_type": "code",
      "source": [
        "number_of_images.items()"
      ],
      "metadata": {
        "colab": {
          "base_uri": "https://localhost:8080/"
        },
        "id": "BU7_e3mjhJSa",
        "outputId": "bdacfc51-2ab3-4380-f8b8-741fbd3a3a22"
      },
      "execution_count": 6,
      "outputs": [
        {
          "output_type": "execute_result",
          "data": {
            "text/plain": [
              "dict_items([('pics', 5000), ('cancer', 0)])"
            ]
          },
          "metadata": {},
          "execution_count": 6
        }
      ]
    },
    {
      "cell_type": "code",
      "source": [
        "len(os.listdir(\"/content/drive/MyDrive/cancermy_directory/cancer\"))"
      ],
      "metadata": {
        "id": "P80GJG69cK6a",
        "colab": {
          "base_uri": "https://localhost:8080/"
        },
        "outputId": "10954ff6-5df3-48f1-ca05-35f8891f2fb6"
      },
      "execution_count": 7,
      "outputs": [
        {
          "output_type": "execute_result",
          "data": {
            "text/plain": [
              "0"
            ]
          },
          "metadata": {},
          "execution_count": 7
        }
      ]
    },
    {
      "cell_type": "markdown",
      "source": [
        "# we will split datat:\n",
        "70% train\n",
        "15% valiadation\n",
        "15% testing"
      ],
      "metadata": {
        "id": "tPFD9nDXsnOi"
      }
    },
    {
      "cell_type": "code",
      "source": [
        "def dataFolder(p, split):\n",
        "  #train\n",
        "\n",
        "  if not os.path.exists(\"./+p\"):\n",
        "    os.mkdir(\"./+p\")\n",
        "\n",
        "    for dir in os.listdir(ROOT_DIR):\n",
        "      os.makedirs(\"./+p+/\",dir)\n",
        "      for img in np.random.choice(a =os.listdir(os.path.join(ROOT_DIR, dir)),\n",
        "                                            size = (math.floor(split*number_of_images[dir])-2),\n",
        "                                            replace=False ):\n",
        "        O = os.path.join(ROOT_DIR,dir,img)\n",
        "        D = os.path.join(\"./\"+p,dir)\n",
        "        shutil.copy(O,D)\n",
        "        os.remove(O)\n",
        "    else:\n",
        "      print(f\"{p}the folder exists\")"
      ],
      "metadata": {
        "id": "7pqB88A1wUsq"
      },
      "execution_count": 8,
      "outputs": []
    },
    {
      "cell_type": "code",
      "source": [
        "dataFolder(\"train\", 0.7)"
      ],
      "metadata": {
        "id": "fsx5cP1mwUwO"
      },
      "execution_count": 10,
      "outputs": []
    },
    {
      "cell_type": "code",
      "source": [
        "dataFolder(\"val\", 0.15)"
      ],
      "metadata": {
        "id": "UEtQTDIg0klW"
      },
      "execution_count": 11,
      "outputs": []
    },
    {
      "cell_type": "code",
      "source": [
        "dataFolder(\"test\", 1)"
      ],
      "metadata": {
        "id": "DVy4vpG-0koT"
      },
      "execution_count": 12,
      "outputs": []
    },
    {
      "cell_type": "markdown",
      "source": [
        "Model Building"
      ],
      "metadata": {
        "id": "RxWjnOGl4-cE"
      }
    },
    {
      "cell_type": "code",
      "source": [
        "import keras\n",
        "from keras.layers import Conv2D, MaxPool2D, Dropout, Flatten, Dense, BatchNormalization, GlobalAvgPool2D\n",
        "from keras.models import Sequential\n",
        "from tensorflow.keras.preprocessing.image import ImageDataGenerator"
      ],
      "metadata": {
        "id": "hpIjY7vK0kst"
      },
      "execution_count": 13,
      "outputs": []
    },
    {
      "cell_type": "markdown",
      "source": [
        "# CNN MODEL"
      ],
      "metadata": {
        "id": "P3wPUyPm8_ua"
      }
    },
    {
      "cell_type": "code",
      "source": [
        "model = Sequential()\n",
        "\n",
        "model.add(Conv2D(filters=16 , kernel_size=(3, 3), activation='relu',input_shape = (224, 224, 3) ))\n",
        "\n",
        "model.add(Conv2D(filters=36 , kernel_size=(3, 3), activation='relu'))\n",
        "model.add(MaxPool2D(pool_size=(2, 2)))\n",
        "\n",
        "model.add(Conv2D(filters=64, kernel_size=(3, 3), activation= 'relu'))\n",
        "model.add(MaxPool2D(pool_size=(2, 2)))\n",
        "\n",
        "model.add(Conv2D(filters=128, kernel_size=(3, 3), activation= 'relu'))\n",
        "model.add(MaxPool2D(pool_size=(2, 2)))\n",
        "\n",
        "model.add(Dropout(rate=0.25))\n",
        "\n",
        "model.add(Flatten())\n",
        "model.add(Dense(units=64 , activation= 'relu'))\n",
        "model.add(Dropout(rate=0.25))\n",
        "model.add(Dense(units=1 , activation= 'sigmoid'))\n",
        "\n",
        "model.summary()"
      ],
      "metadata": {
        "id": "MCMZ7gPf86QJ"
      },
      "execution_count": null,
      "outputs": []
    },
    {
      "cell_type": "code",
      "source": [
        "model.compile(optimizer='adam',loss=keras.losses.binary_crossentropy,metrics=['accuracy'])"
      ],
      "metadata": {
        "id": "8Usvj-z886Sf"
      },
      "execution_count": 15,
      "outputs": []
    },
    {
      "cell_type": "markdown",
      "source": [
        "Preparing our Data using Data Generator"
      ],
      "metadata": {
        "id": "wvQLMbJltdyF"
      }
    },
    {
      "cell_type": "code",
      "source": [
        "def preprocessingImages(path):\n",
        "  \"\"\"\n",
        "  input : Path\n",
        "  output : Pre processed images\n",
        "  \"\"\"\n",
        "  image_data = ImageDataGenerator(zoom_range= 0.2, shear_range=0.2,rescale=1/255, horizontal_flip=True)\n",
        "  image = image_data.flow_from_directory(directory = path, target_size = (224,224),batch_size=32,class_mode='binary')\n",
        "\n",
        "  return image"
      ],
      "metadata": {
        "id": "Ql6SOIlHsSVO"
      },
      "execution_count": 16,
      "outputs": []
    },
    {
      "cell_type": "code",
      "source": [
        "path =\"/content/drive/MyDrive/cancermy_directory\"\n",
        "train_data =preprocessingImages(path)"
      ],
      "metadata": {
        "colab": {
          "base_uri": "https://localhost:8080/"
        },
        "id": "dkynOVxGsSY_",
        "outputId": "86e04862-3d27-49b6-ad49-90a8d24f8de7"
      },
      "execution_count": 17,
      "outputs": [
        {
          "output_type": "stream",
          "name": "stdout",
          "text": [
            "Found 5000 images belonging to 2 classes.\n"
          ]
        }
      ]
    },
    {
      "cell_type": "code",
      "source": [
        "def preprocessingImages2(path):\n",
        "  \"\"\"\n",
        "  input : Path\n",
        "  output : Pre processed images\n",
        "  \"\"\"\n",
        "  image_data = ImageDataGenerator(rescale=1/255,)\n",
        "  image = image_data.flow_from_directory(directory = path, target_size = (224,224),batch_size=32,class_mode='binary')\n",
        "\n",
        "  return image"
      ],
      "metadata": {
        "id": "69jwnzMz86V7"
      },
      "execution_count": 18,
      "outputs": []
    },
    {
      "cell_type": "code",
      "source": [
        "path = \"/content/drive/MyDrive/cancermy_directory\"\n",
        "test_data = preprocessingImages2(path)"
      ],
      "metadata": {
        "colab": {
          "base_uri": "https://localhost:8080/"
        },
        "id": "JhWA2R_J7RKw",
        "outputId": "df2bb577-b953-4817-9332-9e43b499dae8"
      },
      "execution_count": 19,
      "outputs": [
        {
          "output_type": "stream",
          "name": "stdout",
          "text": [
            "Found 5000 images belonging to 2 classes.\n"
          ]
        }
      ]
    },
    {
      "cell_type": "code",
      "source": [
        "path = \"/content/drive/MyDrive/cancermy_directory\"\n",
        "val_data = preprocessingImages2(path)"
      ],
      "metadata": {
        "colab": {
          "base_uri": "https://localhost:8080/"
        },
        "id": "YhhGPNTi7ROi",
        "outputId": "c414d19d-f2fb-4c83-8cf3-18b98e6b794c"
      },
      "execution_count": 20,
      "outputs": [
        {
          "output_type": "stream",
          "name": "stdout",
          "text": [
            "Found 5000 images belonging to 2 classes.\n"
          ]
        }
      ]
    },
    {
      "cell_type": "code",
      "source": [
        "# early stopping and model check point\n",
        "\n",
        "from keras.callbacks import ModelCheckpoint, EarlyStopping\n",
        "\n",
        "es = EarlyStopping(monitor=\"val_accuracy\", min_delta=0.01,patience=3, verbose=1,mode='auto')\n",
        "\n",
        "mc= ModelCheckpoint(monitor=\"val_accuracy\",filepath=\"./bestmodel.h5\",verbose=1,save_best_only=True,mode='auto')\n",
        "\n",
        "cd = [es,mc]"
      ],
      "metadata": {
        "id": "Xih-F-81vYnq"
      },
      "execution_count": 21,
      "outputs": []
    },
    {
      "cell_type": "markdown",
      "source": [
        "Model Training"
      ],
      "metadata": {
        "id": "DOPxzME86VwK"
      }
    },
    {
      "cell_type": "code",
      "source": [
        "hs = model.fit_generator(generator=train_data,\n",
        "                         steps_per_epoch=8,\n",
        "                         epochs=30,\n",
        "                         verbose=1, validation_data=val_data,validation_steps=16, callbacks=cd)"
      ],
      "metadata": {
        "colab": {
          "base_uri": "https://localhost:8080/"
        },
        "id": "MCNXpntW8dBI",
        "outputId": "bb4cdecf-c223-4972-9aec-f0dfaf47949a"
      },
      "execution_count": 22,
      "outputs": [
        {
          "output_type": "stream",
          "name": "stderr",
          "text": [
            "<ipython-input-22-1913788d0556>:1: UserWarning: `Model.fit_generator` is deprecated and will be removed in a future version. Please use `Model.fit`, which supports generators.\n",
            "  hs = model.fit_generator(generator=train_data,\n"
          ]
        },
        {
          "output_type": "stream",
          "name": "stdout",
          "text": [
            "Epoch 1/30\n",
            "8/8 [==============================] - ETA: 0s - loss: 0.0840 - accuracy: 0.9727\n",
            "Epoch 1: val_accuracy improved from -inf to 1.00000, saving model to ./bestmodel.h5\n",
            "8/8 [==============================] - 117s 2s/step - loss: 0.0840 - accuracy: 0.9727 - val_loss: 3.5945e-28 - val_accuracy: 1.0000\n",
            "Epoch 2/30\n",
            "8/8 [==============================] - ETA: 0s - loss: 0.0000e+00 - accuracy: 1.0000\n",
            "Epoch 2: val_accuracy did not improve from 1.00000\n",
            "8/8 [==============================] - 15s 2s/step - loss: 0.0000e+00 - accuracy: 1.0000 - val_loss: 0.0000e+00 - val_accuracy: 1.0000\n",
            "Epoch 3/30\n",
            "8/8 [==============================] - ETA: 0s - loss: 0.0000e+00 - accuracy: 1.0000\n",
            "Epoch 3: val_accuracy did not improve from 1.00000\n",
            "8/8 [==============================] - 15s 2s/step - loss: 0.0000e+00 - accuracy: 1.0000 - val_loss: 0.0000e+00 - val_accuracy: 1.0000\n",
            "Epoch 4/30\n",
            "8/8 [==============================] - ETA: 0s - loss: 0.0000e+00 - accuracy: 1.0000\n",
            "Epoch 4: val_accuracy did not improve from 1.00000\n",
            "8/8 [==============================] - 18s 2s/step - loss: 0.0000e+00 - accuracy: 1.0000 - val_loss: 0.0000e+00 - val_accuracy: 1.0000\n",
            "Epoch 4: early stopping\n"
          ]
        }
      ]
    },
    {
      "cell_type": "code",
      "source": [
        "h = hs.history\n",
        "h.keys()"
      ],
      "metadata": {
        "colab": {
          "base_uri": "https://localhost:8080/"
        },
        "id": "QXa91fEdCv3m",
        "outputId": "4721be40-f07d-4720-a3db-6838c9e3151f"
      },
      "execution_count": 23,
      "outputs": [
        {
          "output_type": "execute_result",
          "data": {
            "text/plain": [
              "dict_keys(['loss', 'accuracy', 'val_loss', 'val_accuracy'])"
            ]
          },
          "metadata": {},
          "execution_count": 23
        }
      ]
    },
    {
      "cell_type": "code",
      "source": [
        "import matplotlib.pyplot as plt\n",
        "\n",
        "plt.plot(h['accuracy'])\n",
        "plt.plot(h['val_accuracy'])\n",
        "\n",
        "plt.title(\"acc vs val-acc\")\n",
        "plt.show()\n"
      ],
      "metadata": {
        "colab": {
          "base_uri": "https://localhost:8080/",
          "height": 452
        },
        "id": "Z5OVl5ex8dD-",
        "outputId": "c02e2589-046c-431f-bd31-114848e2f4bf"
      },
      "execution_count": 25,
      "outputs": [
        {
          "output_type": "display_data",
          "data": {
            "text/plain": [
              "<Figure size 640x480 with 1 Axes>"
            ],
            "image/png": "[encoded data removed]"
          },
          "metadata": {}
        }
      ]
    },
    {
      "cell_type": "code",
      "source": [],
      "metadata": {
        "id": "WMPI4oFN8dGc"
      },
      "execution_count": null,
      "outputs": []
    }
  ]
}